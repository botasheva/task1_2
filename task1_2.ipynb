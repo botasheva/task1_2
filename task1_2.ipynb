{
 "metadata": {
  "name": ""
 },
 "nbformat": 3,
 "nbformat_minor": 0,
 "worksheets": [
  {
   "cells": [
    {
     "cell_type": "code",
     "collapsed": false,
     "input": [
      "import pandas as pd\n",
      "import numpy as np\n",
      "import matplotlib as plt\n",
      "import csv\n",
      "from pandas import read_csv, DataFrame\n",
      "\n",
      "train = read_csv('/home/user/train1.csv',',', names=['x1', 'x2', 'x3', 'x4', 'x5', 'cl'], header=None)\n",
      "test = read_csv('/home/user/test1.csv',',')\n",
      "\n",
      "train.head()"
     ],
     "language": "python",
     "metadata": {},
     "outputs": [
      {
       "html": [
        "<div style=\"max-height:1000px;max-width:1500px;overflow:auto;\">\n",
        "<table border=\"1\" class=\"dataframe\">\n",
        "  <thead>\n",
        "    <tr style=\"text-align: right;\">\n",
        "      <th></th>\n",
        "      <th>x1</th>\n",
        "      <th>x2</th>\n",
        "      <th>x3</th>\n",
        "      <th>x4</th>\n",
        "      <th>x5</th>\n",
        "      <th>cl</th>\n",
        "    </tr>\n",
        "  </thead>\n",
        "  <tbody>\n",
        "    <tr>\n",
        "      <th>0</th>\n",
        "      <td>-1.3439</td>\n",
        "      <td> 1.9364</td>\n",
        "      <td>-2.0486</td>\n",
        "      <td> 0.1981</td>\n",
        "      <td> 3.7396</td>\n",
        "      <td> 0</td>\n",
        "    </tr>\n",
        "    <tr>\n",
        "      <th>1</th>\n",
        "      <td>-1.3030</td>\n",
        "      <td> 1.3879</td>\n",
        "      <td> 1.2133</td>\n",
        "      <td> 1.4969</td>\n",
        "      <td> 4.2838</td>\n",
        "      <td> 0</td>\n",
        "    </tr>\n",
        "    <tr>\n",
        "      <th>2</th>\n",
        "      <td> 0.4675</td>\n",
        "      <td> 0.6502</td>\n",
        "      <td> 1.0033</td>\n",
        "      <td> 1.9103</td>\n",
        "      <td> 0.2695</td>\n",
        "      <td> 0</td>\n",
        "    </tr>\n",
        "    <tr>\n",
        "      <th>3</th>\n",
        "      <td> 1.7195</td>\n",
        "      <td> 3.3527</td>\n",
        "      <td> 0.0704</td>\n",
        "      <td>-1.8166</td>\n",
        "      <td> 0.5757</td>\n",
        "      <td> 1</td>\n",
        "    </tr>\n",
        "    <tr>\n",
        "      <th>4</th>\n",
        "      <td> 0.7569</td>\n",
        "      <td> 0.2539</td>\n",
        "      <td>-1.2003</td>\n",
        "      <td>-0.3202</td>\n",
        "      <td> 1.7770</td>\n",
        "      <td> 1</td>\n",
        "    </tr>\n",
        "  </tbody>\n",
        "</table>\n",
        "</div>"
       ],
       "metadata": {},
       "output_type": "pyout",
       "prompt_number": 123,
       "text": [
        "       x1      x2      x3      x4      x5  cl\n",
        "0 -1.3439  1.9364 -2.0486  0.1981  3.7396   0\n",
        "1 -1.3030  1.3879  1.2133  1.4969  4.2838   0\n",
        "2  0.4675  0.6502  1.0033  1.9103  0.2695   0\n",
        "3  1.7195  3.3527  0.0704 -1.8166  0.5757   1\n",
        "4  0.7569  0.2539 -1.2003 -0.3202  1.7770   1"
       ]
      }
     ],
     "prompt_number": 123
    },
    {
     "cell_type": "code",
     "collapsed": false,
     "input": [
      "CorrKoef = train.corr() #\u0443 \u043d\u0430\u0441 \u043d\u0435\u0442 \u043a\u043e\u0440\u0440\u0435\u043b\u0438\u0440\u0443\u044e\u0449\u0438\u0445 \u0441\u0442\u043e\u043b\u0431\u0446\u043e\u0432 =(\n",
      "CorrKoef"
     ],
     "language": "python",
     "metadata": {},
     "outputs": [
      {
       "html": [
        "<div style=\"max-height:1000px;max-width:1500px;overflow:auto;\">\n",
        "<table border=\"1\" class=\"dataframe\">\n",
        "  <thead>\n",
        "    <tr style=\"text-align: right;\">\n",
        "      <th></th>\n",
        "      <th>x1</th>\n",
        "      <th>x2</th>\n",
        "      <th>x3</th>\n",
        "      <th>x4</th>\n",
        "      <th>x5</th>\n",
        "      <th>cl</th>\n",
        "    </tr>\n",
        "  </thead>\n",
        "  <tbody>\n",
        "    <tr>\n",
        "      <th>x1</th>\n",
        "      <td> 1.000000</td>\n",
        "      <td> 0.006857</td>\n",
        "      <td>-0.004971</td>\n",
        "      <td> 0.005424</td>\n",
        "      <td>-0.012404</td>\n",
        "      <td>-0.016173</td>\n",
        "    </tr>\n",
        "    <tr>\n",
        "      <th>x2</th>\n",
        "      <td> 0.006857</td>\n",
        "      <td> 1.000000</td>\n",
        "      <td> 0.011743</td>\n",
        "      <td>-0.634432</td>\n",
        "      <td> 0.034801</td>\n",
        "      <td> 0.367749</td>\n",
        "    </tr>\n",
        "    <tr>\n",
        "      <th>x3</th>\n",
        "      <td>-0.004971</td>\n",
        "      <td> 0.011743</td>\n",
        "      <td> 1.000000</td>\n",
        "      <td> 0.053954</td>\n",
        "      <td>-0.012499</td>\n",
        "      <td>-0.036120</td>\n",
        "    </tr>\n",
        "    <tr>\n",
        "      <th>x4</th>\n",
        "      <td> 0.005424</td>\n",
        "      <td>-0.634432</td>\n",
        "      <td> 0.053954</td>\n",
        "      <td> 1.000000</td>\n",
        "      <td> 0.047669</td>\n",
        "      <td>-0.802185</td>\n",
        "    </tr>\n",
        "    <tr>\n",
        "      <th>x5</th>\n",
        "      <td>-0.012404</td>\n",
        "      <td> 0.034801</td>\n",
        "      <td>-0.012499</td>\n",
        "      <td> 0.047669</td>\n",
        "      <td> 1.000000</td>\n",
        "      <td>-0.021487</td>\n",
        "    </tr>\n",
        "    <tr>\n",
        "      <th>cl</th>\n",
        "      <td>-0.016173</td>\n",
        "      <td> 0.367749</td>\n",
        "      <td>-0.036120</td>\n",
        "      <td>-0.802185</td>\n",
        "      <td>-0.021487</td>\n",
        "      <td> 1.000000</td>\n",
        "    </tr>\n",
        "  </tbody>\n",
        "</table>\n",
        "</div>"
       ],
       "metadata": {},
       "output_type": "pyout",
       "prompt_number": 124,
       "text": [
        "          x1        x2        x3        x4        x5        cl\n",
        "x1  1.000000  0.006857 -0.004971  0.005424 -0.012404 -0.016173\n",
        "x2  0.006857  1.000000  0.011743 -0.634432  0.034801  0.367749\n",
        "x3 -0.004971  0.011743  1.000000  0.053954 -0.012499 -0.036120\n",
        "x4  0.005424 -0.634432  0.053954  1.000000  0.047669 -0.802185\n",
        "x5 -0.012404  0.034801 -0.012499  0.047669  1.000000 -0.021487\n",
        "cl -0.016173  0.367749 -0.036120 -0.802185 -0.021487  1.000000"
       ]
      }
     ],
     "prompt_number": 124
    },
    {
     "cell_type": "code",
     "collapsed": false,
     "input": [
      "target = train.cl.values\n",
      "new_train = train.drop('cl', axis=1).values"
     ],
     "language": "python",
     "metadata": {},
     "outputs": [],
     "prompt_number": 125
    },
    {
     "cell_type": "code",
     "collapsed": false,
     "input": [
      "new_train"
     ],
     "language": "python",
     "metadata": {},
     "outputs": [
      {
       "metadata": {},
       "output_type": "pyout",
       "prompt_number": 126,
       "text": [
        "array([[-1.3439,  1.9364, -2.0486,  0.1981,  3.7396],\n",
        "       [-1.303 ,  1.3879,  1.2133,  1.4969,  4.2838],\n",
        "       [ 0.4675,  0.6502,  1.0033,  1.9103,  0.2695],\n",
        "       ..., \n",
        "       [-2.5659,  1.0355, -0.5637,  1.671 ,  1.162 ],\n",
        "       [-0.1324,  0.5318, -0.0201, -1.1602,  0.3989],\n",
        "       [ 2.7383,  1.8625,  1.8295, -0.8711,  0.3539]])"
       ]
      }
     ],
     "prompt_number": 126
    },
    {
     "cell_type": "code",
     "collapsed": false,
     "input": [
      "from sklearn.cross_validation import train_test_split\n",
      "Xtrn, Xtest, Ytrn, Ytest = train_test_split(new_train, target, test_size=0.4, random_state=0)"
     ],
     "language": "python",
     "metadata": {},
     "outputs": [],
     "prompt_number": 127
    },
    {
     "cell_type": "code",
     "collapsed": false,
     "input": [
      "from sklearn import svm\n",
      "clf = svm.SVC()\n",
      "clf.fit(Xtrn, Ytrn)\n",
      "clf.score(Xtest, Ytest) "
     ],
     "language": "python",
     "metadata": {},
     "outputs": [
      {
       "metadata": {},
       "output_type": "pyout",
       "prompt_number": 128,
       "text": [
        "0.97999999999999998"
       ]
      }
     ],
     "prompt_number": 128
    },
    {
     "cell_type": "code",
     "collapsed": false,
     "input": [
      "from sklearn import cross_validation\n",
      "scores = cross_validation.cross_val_score(clf, new_train, target, cv=5)"
     ],
     "language": "python",
     "metadata": {},
     "outputs": [],
     "prompt_number": 129
    },
    {
     "cell_type": "code",
     "collapsed": false,
     "input": [
      "scores"
     ],
     "language": "python",
     "metadata": {},
     "outputs": [
      {
       "metadata": {},
       "output_type": "pyout",
       "prompt_number": 130,
       "text": [
        "array([ 0.94,  0.98,  1.  ,  0.96,  0.98])"
       ]
      }
     ],
     "prompt_number": 130
    },
    {
     "cell_type": "code",
     "collapsed": false,
     "input": [
      "test_x = test[[0,1,2,3,4]].values\n",
      "clf.fit(new_train, target)\n",
      "#test.insert(5, 'result', clf.predict(test_x))\n",
      "\n",
      "test_y = clf.predict(test_x)\n",
      "\n",
      "import hashlib\n",
      "h = hashlib.sha224(''.join([str(x) for x in test_y])).hexdigest()\n",
      "print h\n"
     ],
     "language": "python",
     "metadata": {},
     "outputs": [
      {
       "output_type": "stream",
       "stream": "stdout",
       "text": [
        "d8989dcd74ad0fe4caae4c5273e6aa301c8778dc748febd8830170e3\n"
       ]
      }
     ],
     "prompt_number": 131
    },
    {
     "cell_type": "code",
     "collapsed": false,
     "input": [],
     "language": "python",
     "metadata": {},
     "outputs": [],
     "prompt_number": 131
    },
    {
     "cell_type": "code",
     "collapsed": false,
     "input": [],
     "language": "python",
     "metadata": {},
     "outputs": []
    }
   ],
   "metadata": {}
  }
 ]
}